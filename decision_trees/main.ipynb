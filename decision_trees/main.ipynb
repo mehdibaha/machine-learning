{
 "cells": [
  {
   "cell_type": "markdown",
   "metadata": {},
   "source": [
    "# Decision Trees"
   ]
  },
  {
   "cell_type": "code",
   "execution_count": 9,
   "metadata": {},
   "outputs": [],
   "source": [
    "%matplotlib inline\n",
    "\n",
    "import dtree as d\n",
    "import matplotlib.pyplot as plt\n",
    "import monkdata as m\n",
    "import numpy as np\n",
    "import random\n",
    "from pylab import rcParams\n",
    "\n",
    "from drawtree_qt5 import drawTree\n",
    "rcParams['figure.figsize'] = 20, 5"
   ]
  },
  {
   "cell_type": "markdown",
   "metadata": {},
   "source": [
    "## The hardest dataset ?\n",
    "MONK-2 would be the hardest dataset to build a decision tree for because the underlying attribute relations is hard(est?) to describe in terms of \"simple\" decisions.\n",
    "\n",
    "Entropies of each dataset:\n",
    "* MONK-1: 1.000\n",
    "* MONK-2: 0.957\n",
    "* MONK-3: 0.999\n",
    "\n",
    "## What is entropy ?\n",
    "In a uniform distribution, each class has an equal probability of appearing in the dataset, so:\n",
    "    pk = 1/k (where c is number of classes)\n",
    "So the entropy is equal to:\n",
    "    E(uniform) = sum_k( -1/k * log_k(1/k) )\n",
    "    E(uniform) = -log_k(1/k)\n",
    "    E(uniform) = 1\n",
    "\n",
    "On the other hand, in a non-uniform distribution, entropy is always lower than 1, and the more random it is, the lowest it is to 1.\n",
    "Example distributions with high entropy: A fair coin toss.\n",
    "Example distributions with low entropy: A biased coin toss (25% of getting heads, 75% tails).\n",
    "\n",
    "## Entropy for attributes\n",
    "\n",
    "* MONK-1: {A1: 0.07527255560831925, A2: 0.005838429962909286, A3: 0.00470756661729721, A4: 0.02631169650768228, A5: 0.28703074971578435, A6: 0.0007578557158638421} -> A5\n",
    "* MONK-2: {A1: 0.0037561773775118823, A2: 0.0024584986660830532, A3: 0.0010561477158920196, A4: 0.015664247292643818, A5: 0.01727717693791797, A6: 0.006247622236881467} -> A5\n",
    "* MONK-3: {A1: 0.007120868396071844, A2: 0.29373617350838865, A3: 0.0008311140445336207, A4: 0.002891817288654397, A5: 0.25591172461972755, A6: 0.007077026074097326} -> A2 and A5\n",
    "\n",
    "A2 and A5 are strong contenders, but A5 seems the most convincing for all example datasets.\n",
    "\n",
    "## Information gain\n",
    "\n",
    "When the information gain is maximised, some of the subsets now have a null entropy which means we can completely determine them based on their attribute.\n",
    "This is a useful heuristic because it allows us to reduce the entropy, i.e make the subsets more deterministic and less \"random\" when a certain attribute is picked out.\n",
    "\n",
    "The ones with the most information gains for each subset, i.e:\n",
    "* 0: -, 1: A4, 2: A6, 3: A1\n",
    "\n",
    "Results:\n",
    "* MONK-1: {Etrain: 1.0, Etest: 0.82}\n",
    "* MONK-2: {Etrain: 1.0, Etest: 0.69}\n",
    "* MONK-3: {Etrain: 1.0, Etest: 0.94}\n",
    "\n",
    "The one with highest entropy is hard to train (2nd lowest score)."
   ]
  },
  {
   "cell_type": "code",
   "execution_count": 7,
   "metadata": {},
   "outputs": [],
   "source": [
    "def partition(data, fraction):\n",
    "    ldata = list(data)\n",
    "    random.shuffle(ldata)\n",
    "    breakPoint = int(len(ldata) * fraction)\n",
    "    return ldata[:breakPoint], ldata[breakPoint:]\n",
    "\n",
    "def pruneTree(tree, pruning_set):\n",
    "    pruned = d.allPruned(tree)\n",
    "    max_score = 0\n",
    "    for prune in pruned:\n",
    "        score = d.check(prune, pruning_set)\n",
    "        if score >= max_score:\n",
    "            max_score = score\n",
    "            max_pruned = prune\n",
    "    return max_pruned, max_score\n",
    "\n",
    "def getClassError(fraction, data, runs=500):\n",
    "    train, val = partition(data, fraction)\n",
    "    t = d.buildTree(train, m.attributes)\n",
    "    max_score = d.check(t, val)\n",
    "    scores = []\n",
    "    for _ in range(runs):\n",
    "        train, val = partition(data, fraction)\n",
    "        score = d.check(t, val)\n",
    "        p, s = pruneTree(t, val)\n",
    "        scores.append(s)\n",
    "    avg, spread = np.mean(scores), np.std(scores)\n",
    "    return avg, spread"
   ]
  },
  {
   "cell_type": "markdown",
   "metadata": {},
   "source": [
    "## Getting data"
   ]
  },
  {
   "cell_type": "code",
   "execution_count": 11,
   "metadata": {},
   "outputs": [],
   "source": [
    "fractions = [f/10.0 for f in range(3, 9)]\n",
    "means1, spreads1 = zip(*[getClassError(f, m.monk1) for f in fractions])\n",
    "means3, spreads3 = zip(*[getClassError(f, m.monk3) for f in fractions])"
   ]
  },
  {
   "cell_type": "markdown",
   "metadata": {},
   "source": [
    "## Plotting"
   ]
  },
  {
   "cell_type": "code",
   "execution_count": 12,
   "metadata": {},
   "outputs": [
    {
     "data": {
      "image/png": "[encoded data removed]",
      "text/plain": [
       "<matplotlib.figure.Figure at 0x10d6e2dd8>"
      ]
     },
     "metadata": {},
     "output_type": "display_data"
    }
   ],
   "source": [
    "# settings linespaces\n",
    "x = np.array(fractions)\n",
    "y1 = 1 - np.array(means1)\n",
    "e1 = np.array(spreads1)\n",
    "y3 = 1 - np.array(means3)\n",
    "e3 = np.array(spreads3)\n",
    "# plt.show()\n",
    "e1 = plt.errorbar(x, y1, e1, linestyle='None', marker='x', label='monk1')\n",
    "e2 = plt.errorbar(x, y3, e3, linestyle='None', marker='x', label='monk3')\n",
    "tt = plt.title('Reduced error pruning in Decision Trees')\n",
    "ll = plt.legend(loc='upper left')\n",
    "xl = plt.xlabel('Partition fraction')\n",
    "yl = plt.ylabel('Classification Error')\n",
    "plt.show()"
   ]
  },
  {
   "cell_type": "markdown",
   "metadata": {},
   "source": [
    "## Pruning decision trees\n",
    "Pruning is very useful to limit the complexity of the model, because following Occahm's razor, the model should the simplest possible.\n",
    "So while by pruning our decision tree, we can make our bias bigger (the model performs average in most datasets), it has the advantage of highly reducing the variance by limiting the complexity of the decision tree.\n",
    "\n",
    "## Conclusion\n",
    "The test error is reduced with pruning."
   ]
  }
 ],
 "metadata": {
  "kernelspec": {
   "display_name": "Python 3",
   "language": "python",
   "name": "python3"
  },
  "language_info": {
   "codemirror_mode": {
    "name": "ipython",
    "version": 3
   },
   "file_extension": ".py",
   "mimetype": "text/x-python",
   "name": "python",
   "nbconvert_exporter": "python",
   "pygments_lexer": "ipython3",
   "version": "3.6.3"
  }
 },
 "nbformat": 4,
 "nbformat_minor": 2
}
